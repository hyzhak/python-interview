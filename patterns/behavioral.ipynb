{
 "cells": [
  {
   "cell_type": "markdown",
   "metadata": {},
   "source": [
    "# Invert sequence of bits"
   ]
  },
  {
   "cell_type": "code",
   "execution_count": 170,
   "metadata": {
    "scrolled": false
   },
   "outputs": [
    {
     "name": "stdout",
     "output_type": "stream",
     "text": [
      "org_number 0b1011011001110000100100111001110\n",
      "inverted 0b111001110010010000111001101101\n"
     ]
    }
   ],
   "source": [
    "import random\n",
    "\n",
    "def invert(value):\n",
    "    bits = 0\n",
    "    while value > 0:\n",
    "        bit = value % 2\n",
    "        bits <<= 1\n",
    "        bits += bit\n",
    "        value //=2\n",
    "    return bits\n",
    "    \n",
    "assert 0b11000001 == invert(0b10000011)\n",
    "org_number = random.randint(0, 1<<31)    \n",
    "print('org_number {}'.format(bin(org_number)))\n",
    "print('inverted {}'.format(bin(invert(org_number))))"
   ]
  },
  {
   "cell_type": "markdown",
   "metadata": {},
   "source": [
    "# Fibonacci\n",
    "\n",
    "incorrect because actually we should use formula\n",
    "\n",
    "$$\n",
    "x_{i} = x_{i-1} + x_{i-2},\n",
    "$$\n",
    "where $x_{0} = 0$ and $x_{1} = 1$"
   ]
  },
  {
   "cell_type": "code",
   "execution_count": 205,
   "metadata": {
    "collapsed": true
   },
   "outputs": [],
   "source": [
    "import math\n",
    "\n",
    "def is_fibonacci(n):\n",
    "    s1 = 5 * (n ** 2) - 4\n",
    "    s2 = 5 * (n ** 2) + 4\n",
    "    return s1 >= 0 and s2 >= 0 and (math.sqrt(s1) % 1 <= 0 or math.sqrt(s2) % 1 <= 0)"
   ]
  },
  {
   "cell_type": "code",
   "execution_count": 209,
   "metadata": {},
   "outputs": [
    {
     "name": "stdout",
     "output_type": "stream",
     "text": [
      "1\n",
      "2\n",
      "3\n",
      "5\n",
      "8\n",
      "13\n",
      "21\n",
      "34\n",
      "55\n",
      "89\n",
      "144\n",
      "233\n",
      "377\n",
      "610\n",
      "987\n"
     ]
    }
   ],
   "source": [
    "for i in [i for i in range(1000) if is_fibonacci(i)]:\n",
    "    print('{}'.format(i))"
   ]
  },
  {
   "cell_type": "markdown",
   "metadata": {},
   "source": [
    "# Sorting\n",
    "## Ex.1\n",
    "Given an array with n elements, can you sort this array in ascending order using only one of the following operations?\n",
    "1. Swap two elements.\n",
    "2. Reverse one sub-segment.\n"
   ]
  },
  {
   "cell_type": "code",
   "execution_count": 407,
   "metadata": {},
   "outputs": [
    {
     "name": "stdout",
     "output_type": "stream",
     "text": [
      "for [1, 2, 3] swap 0 and 1\n",
      "for [1, 2, 3] swap 0 and 2\n"
     ]
    }
   ],
   "source": [
    "from operator import gt, lt\n",
    "\n",
    "def is_sorted(items, op=None):\n",
    "    op = op or gt\n",
    "    for i1, i2 in zip(items, items[1:]):\n",
    "        if op(i1, i2):\n",
    "            return False\n",
    "    return True\n",
    "# more pythonic way\n",
    "#    return next((False for i1, i2 in zip(items[lo:hi], items[lo+1:hi]) if op(i1, i2)), True)\n",
    "\n",
    "assert is_sorted([1,2,3,3,4])\n",
    "assert not is_sorted([1, 3, 2, 4, 5])\n",
    "assert not is_sorted([1,2,3,4,3])\n",
    "\n",
    "def swap(items, p1, p2):\n",
    "    print('for {} swap {} and {}'.format(items, p1, p2))\n",
    "    items[p1], items[p2] = items[p2], items[p1]\n",
    "    return items\n",
    "    \n",
    "assert swap([1,2,3], 0, 1) == [2,1,3]\n",
    "assert swap([1,2,3], 0, 2) == [3,2,1]\n"
   ]
  },
  {
   "cell_type": "markdown",
   "metadata": {},
   "source": [
    "## Quick sort"
   ]
  },
  {
   "cell_type": "code",
   "execution_count": 420,
   "metadata": {
    "scrolled": false
   },
   "outputs": [
    {
     "name": "stdout",
     "output_type": "stream",
     "text": [
      "--------------------------------------------------------------------------------\n",
      "\n",
      "> quicksort [1, 2, 3, 4, 5] 0 4\n",
      "hoare_partition [1, 2, 3, 4, 5] 0 4\n",
      "ge_in target A [1, 2, 3, 4, 5], pivot=1\n",
      "le_in target A [1, 2, 3, 4, 5], pivot=1\n",
      "0 0\n",
      "p=0\n",
      "\n",
      "> quicksort [1, 2, 3, 4, 5] 0 0\n",
      "\n",
      "> quicksort [1, 2, 3, 4, 5] 1 4\n",
      "hoare_partition [1, 2, 3, 4, 5] 1 4\n",
      "ge_in target A [2, 3, 4, 5], pivot=2\n",
      "le_in target A [2, 3, 4, 5], pivot=2\n",
      "1 1\n",
      "p=1\n",
      "\n",
      "> quicksort [1, 2, 3, 4, 5] 1 1\n",
      "\n",
      "> quicksort [1, 2, 3, 4, 5] 2 4\n",
      "hoare_partition [1, 2, 3, 4, 5] 2 4\n",
      "ge_in target A [3, 4, 5], pivot=3\n",
      "le_in target A [3, 4, 5], pivot=3\n",
      "2 2\n",
      "p=2\n",
      "\n",
      "> quicksort [1, 2, 3, 4, 5] 2 2\n",
      "\n",
      "> quicksort [1, 2, 3, 4, 5] 3 4\n",
      "[4, 5] reverse it!\n",
      "hoare_partition [1, 2, 3, 4, 5] 3 4\n",
      "ge_in target A [4, 5], pivot=4\n",
      "le_in target A [4, 5], pivot=4\n",
      "3 3\n",
      "p=3\n",
      "\n",
      "> quicksort [1, 2, 3, 4, 5] 3 3\n",
      "\n",
      "> quicksort [1, 2, 3, 4, 5] 4 4\n",
      "--------------------------------------------------------------------------------\n",
      "\n",
      "> quicksort [4, 3, 2, 1, 5] 0 4\n",
      "hoare_partition [4, 3, 2, 1, 5] 0 4\n",
      "ge_in target A [4, 3, 2, 1, 5], pivot=4\n",
      "le_in target A [4, 3, 2, 1, 5], pivot=4\n",
      "0 3\n",
      "for [4, 3, 2, 1, 5] swap 0 and 3\n",
      "ge_in target A [3, 2, 4, 5], pivot=4\n",
      "le_in target A [1, 3, 2], pivot=4\n",
      "3 2\n",
      "p=2\n",
      "\n",
      "> quicksort [1, 3, 2, 4, 5] 0 2\n",
      "hoare_partition [1, 3, 2, 4, 5] 0 2\n",
      "ge_in target A [1, 3, 2, 4, 5], pivot=1\n",
      "le_in target A [1, 3, 2], pivot=1\n",
      "0 0\n",
      "p=0\n",
      "\n",
      "> quicksort [1, 3, 2, 4, 5] 0 0\n",
      "\n",
      "> quicksort [1, 3, 2, 4, 5] 1 2\n",
      "hoare_partition [1, 3, 2, 4, 5] 1 2\n",
      "ge_in target A [3, 2, 4, 5], pivot=3\n",
      "le_in target A [3, 2], pivot=3\n",
      "1 2\n",
      "for [1, 3, 2, 4, 5] swap 1 and 2\n",
      "ge_in target A [3, 4, 5], pivot=3\n",
      "le_in target A [2], pivot=3\n",
      "2 1\n",
      "p=1\n",
      "\n",
      "> quicksort [1, 2, 3, 4, 5] 1 1\n",
      "\n",
      "> quicksort [1, 2, 3, 4, 5] 2 2\n",
      "\n",
      "> quicksort [1, 2, 3, 4, 5] 3 4\n",
      "[4, 5] reverse it!\n",
      "hoare_partition [1, 2, 3, 4, 5] 3 4\n",
      "ge_in target A [4, 5], pivot=4\n",
      "le_in target A [4, 5], pivot=4\n",
      "3 3\n",
      "p=3\n",
      "\n",
      "> quicksort [1, 2, 3, 4, 5] 3 3\n",
      "\n",
      "> quicksort [1, 2, 3, 4, 5] 4 4\n",
      "--------------------------------------------------------------------------------\n",
      "\n",
      "> quicksort [5, 4, 3, 2, 1] 0 4\n",
      "[5, 4, 3, 2, 1] reverse it!\n",
      "hoare_partition [5, 4, 3, 2, 1] 0 4\n",
      "ge_in target A [5, 4, 3, 2, 1], pivot=5\n",
      "le_in target A [5, 4, 3, 2, 1], pivot=5\n",
      "0 4\n",
      "for [5, 4, 3, 2, 1] swap 0 and 4\n",
      "ge_in target A [4, 3, 2, 5], pivot=5\n",
      "le_in target A [1, 4, 3, 2], pivot=5\n",
      "4 3\n",
      "p=3\n",
      "\n",
      "> quicksort [1, 4, 3, 2, 5] 0 3\n",
      "hoare_partition [1, 4, 3, 2, 5] 0 3\n",
      "ge_in target A [1, 4, 3, 2, 5], pivot=1\n",
      "le_in target A [1, 4, 3, 2], pivot=1\n",
      "0 0\n",
      "p=0\n",
      "\n",
      "> quicksort [1, 4, 3, 2, 5] 0 0\n",
      "\n",
      "> quicksort [1, 4, 3, 2, 5] 1 3\n",
      "hoare_partition [1, 4, 3, 2, 5] 1 3\n",
      "ge_in target A [4, 3, 2, 5], pivot=4\n",
      "le_in target A [4, 3, 2], pivot=4\n",
      "1 3\n",
      "for [1, 4, 3, 2, 5] swap 1 and 3\n",
      "ge_in target A [3, 4, 5], pivot=4\n",
      "le_in target A [2, 3], pivot=4\n",
      "3 2\n",
      "p=2\n",
      "\n",
      "> quicksort [1, 2, 3, 4, 5] 1 2\n",
      "hoare_partition [1, 2, 3, 4, 5] 1 2\n",
      "ge_in target A [2, 3, 4, 5], pivot=2\n",
      "le_in target A [2, 3], pivot=2\n",
      "1 1\n",
      "p=1\n",
      "\n",
      "> quicksort [1, 2, 3, 4, 5] 1 1\n",
      "\n",
      "> quicksort [1, 2, 3, 4, 5] 2 2\n",
      "\n",
      "> quicksort [1, 2, 3, 4, 5] 3 3\n",
      "\n",
      "> quicksort [1, 2, 3, 4, 5] 4 4\n",
      "--------------------------------------------------------------------------------\n",
      "\n",
      "> quicksort [1, 4, 2, 3, 5] 0 4\n",
      "hoare_partition [1, 4, 2, 3, 5] 0 4\n",
      "ge_in target A [1, 4, 2, 3, 5], pivot=1\n",
      "le_in target A [1, 4, 2, 3, 5], pivot=1\n",
      "0 0\n",
      "p=0\n",
      "\n",
      "> quicksort [1, 4, 2, 3, 5] 0 0\n",
      "\n",
      "> quicksort [1, 4, 2, 3, 5] 1 4\n",
      "hoare_partition [1, 4, 2, 3, 5] 1 4\n",
      "ge_in target A [4, 2, 3, 5], pivot=4\n",
      "le_in target A [4, 2, 3, 5], pivot=4\n",
      "1 3\n",
      "for [1, 4, 2, 3, 5] swap 1 and 3\n",
      "ge_in target A [2, 4, 5], pivot=4\n",
      "le_in target A [3, 2], pivot=4\n",
      "3 2\n",
      "p=2\n",
      "\n",
      "> quicksort [1, 3, 2, 4, 5] 1 2\n",
      "hoare_partition [1, 3, 2, 4, 5] 1 2\n",
      "ge_in target A [3, 2, 4, 5], pivot=3\n",
      "le_in target A [3, 2], pivot=3\n",
      "1 2\n",
      "for [1, 3, 2, 4, 5] swap 1 and 2\n",
      "ge_in target A [3, 4, 5], pivot=3\n",
      "le_in target A [2], pivot=3\n",
      "2 1\n",
      "p=1\n",
      "\n",
      "> quicksort [1, 2, 3, 4, 5] 1 1\n",
      "\n",
      "> quicksort [1, 2, 3, 4, 5] 2 2\n",
      "\n",
      "> quicksort [1, 2, 3, 4, 5] 3 4\n",
      "[4, 5] reverse it!\n",
      "hoare_partition [1, 2, 3, 4, 5] 3 4\n",
      "ge_in target A [4, 5], pivot=4\n",
      "le_in target A [4, 5], pivot=4\n",
      "3 3\n",
      "p=3\n",
      "\n",
      "> quicksort [1, 2, 3, 4, 5] 3 3\n",
      "\n",
      "> quicksort [1, 2, 3, 4, 5] 4 4\n"
     ]
    }
   ],
   "source": [
    "import random\n",
    "\n",
    "def quicksort(items, lo=None, hi=None):\n",
    "    lo = lo if lo is not None else 0\n",
    "    hi = hi if hi is not None else len(items) - 1\n",
    "    print('\\n> quicksort {} {} {}'.format(items, lo, hi))\n",
    "\n",
    "    if hi <= lo:\n",
    "        return items\n",
    "\n",
    "    if is_sorted(items[hi + 1:lo:-1]):\n",
    "        print('{} reverse it!'.format(items[lo:hi+1]))\n",
    "        #TODO: reverse it\n",
    "    \n",
    "    #p = partition(items, lo, hi)\n",
    "    p = hoare_partition(items, lo, hi)\n",
    "    print('p={}'.format(p))\n",
    "    #quicksort(items, lo, p - 1 )\n",
    "    quicksort(items, lo, p)\n",
    "    quicksort(items, p + 1, hi)\n",
    "    return items\n",
    "\n",
    "#Lomuto partition scheme\n",
    "def partition(items, lo, hi):\n",
    "    pivot = items[hi]\n",
    "    i = lo - 1    \n",
    "    for j in range(lo, hi):\n",
    "        if items[j] < pivot:\n",
    "            i = i + 1\n",
    "            swap(items, i, j)\n",
    "    if items[hi] < items[i + 1]:\n",
    "        swap(items, i + 1, hi)\n",
    "    return i + 1\n",
    "\n",
    "def ge_in(A, pivot, debug=True):\n",
    "    debug and print('ge_in target A {}, pivot={}'.format(A, pivot))\n",
    "    return next((_i for _i, a in enumerate(A) if a >= pivot), None)\n",
    "\n",
    "def le_in(A, pivot, debug=True):\n",
    "    debug and print('le_in target A {}, pivot={}'.format(A, pivot))\n",
    "    return next((len(A) - _i - 1 for _i, a in enumerate(reversed(A)) if a <= pivot), None)\n",
    "\n",
    "assert ge_in([1,2,3,4,5], 2, debug=False) == 1\n",
    "assert le_in([1,2,3,4,5], 2, debug=False) == 1\n",
    "\n",
    "#Hoare partition scheme\n",
    "def hoare_partition(A, lo, hi):\n",
    "    print('hoare_partition', A, lo, hi)\n",
    "    pivot = A[lo]\n",
    "    i = lo - 1\n",
    "    j = hi + 1\n",
    "    while True:\n",
    "        i = ge_in(A[i + 1:], pivot) + i + 1\n",
    "        j = le_in(A[lo:j], pivot) + lo\n",
    "        print(i, j)\n",
    "        if i >= j:\n",
    "            return j\n",
    "\n",
    "        swap(A, i, j)\n",
    "\n",
    "print('-'*80)\n",
    "assert is_sorted(quicksort([1,2,3,4,5]))\n",
    "print('-'*80)\n",
    "assert is_sorted(quicksort([4,3,2,1,5])), str(quicksort([4,3,2,1,5]))\n",
    "print('-'*80)\n",
    "assert is_sorted(quicksort([5,4,3,2,1]))\n",
    "print('-'*80)\n",
    "assert is_sorted(quicksort([1,4,2,3,5]))"
   ]
  },
  {
   "cell_type": "markdown",
   "metadata": {},
   "source": [
    "## Closest numbers\n",
    "\n",
    "> Given a list of unsorted integers, A={a1,a2,...,aN}, can you find the pair of elements that have\n",
    "the smallest absolute difference between them?\n",
    "If there are multiple pairs, find them all."
   ]
  },
  {
   "cell_type": "code",
   "execution_count": 462,
   "metadata": {
    "scrolled": true
   },
   "outputs": [
    {
     "name": "stdout",
     "output_type": "stream",
     "text": [
      "(1, [(0, 1), (1, 2)])\n"
     ]
    }
   ],
   "source": [
    "def closest(org_ar):\n",
    "    ar = list(sorted(enumerate(org_ar), key=lambda item: item[1]))\n",
    "    ar = [(idx_1, idx_2, abs(a_1 - a_2)) for ((idx_1, a_1), (idx_2, a_2)) in zip(ar, ar[1:])]\n",
    "    ar = sorted(ar, key=lambda item: item[2])\n",
    "    smallest_distance = ar[0][2]\n",
    "    return (smallest_distance, list((idx_1, idx_2) for (idx_1, idx_2, distance) in ar if distance <= smallest_distance))\n",
    "\n",
    "print(closest([1,2,3,5,7]))\n",
    "assert closest([1,2,3,5,7]) == (1, [(0,1), (1,2)])"
   ]
  },
  {
   "cell_type": "code",
   "execution_count": 475,
   "metadata": {},
   "outputs": [
    {
     "name": "stdout",
     "output_type": "stream",
     "text": [
      "original : [(0, 17865), (1, 53265), (2, 12446), (3, 58624), (4, 24775), (5, 18231), (6, 27713), (7, 61643), (8, 2116), (9, 23602), (10, 5067), (11, 45799), (12, 58586), (13, 2400), (14, 5209), (15, 44693), (16, 37707), (17, 30546), (18, 55259), (19, 59630), (20, 2464), (21, 36743), (22, 3001), (23, 50733), (24, 36359), (25, 16394), (26, 44931), (27, 10592), (28, 236), (29, 24604), (30, 3789), (31, 2393), (32, 45016), (33, 32498), (34, 51479), (35, 29859), (36, 35894), (37, 47010), (38, 11068), (39, 45111), (40, 42698), (41, 8015), (42, 42756), (43, 65397), (44, 9782), (45, 58387), (46, 10680), (47, 51281), (48, 51657), (49, 52833), (50, 20816), (51, 33645), (52, 49813), (53, 50598), (54, 45714), (55, 45100), (56, 44639), (57, 36473), (58, 1460), (59, 12429), (60, 62441), (61, 39153), (62, 48892), (63, 17213), (64, 10604), (65, 64325), (66, 53521), (67, 18991), (68, 32608), (69, 19008), (70, 63023), (71, 40356), (72, 65262), (73, 46447), (74, 20386), (75, 57357), (76, 6260), (77, 44607), (78, 24870), (79, 224), (80, 28898), (81, 25030), (82, 24074), (83, 49583), (84, 45493), (85, 65300), (86, 9462), (87, 41754), (88, 14564), (89, 57252), (90, 2355), (91, 11797), (92, 37400), (93, 55805), (94, 16150), (95, 45081), (96, 45043), (97, 15889), (98, 35360), (99, 37793)] \n",
      "closest pairs: [(31, 2393, 13, 2400)], distance 7\n"
     ]
    }
   ],
   "source": [
    "ar = list(map(lambda _: random.randint(0, 1<<16), range(100)))\n",
    "print('original : {} '.format(list(enumerate(ar))))\n",
    "cl = closest(ar)\n",
    "print('closest pairs: {}, distance'.format([(idx_1, ar[idx_1], idx_2, ar[idx_2]) for (idx_1, idx_2) in cl[1]]), cl[0])"
   ]
  },
  {
   "cell_type": "markdown",
   "metadata": {},
   "source": [
    "> K sum problem: in a given sequence of integers find k of them which sum will be 0.\n",
    "This is a generalized version of a 2-SUM and a 3-SUM problems."
   ]
  },
  {
   "cell_type": "code",
   "execution_count": 482,
   "metadata": {},
   "outputs": [
    {
     "ename": "AssertionError",
     "evalue": "",
     "output_type": "error",
     "traceback": [
      "\u001b[0;31m---------------------------------------------------------------------------\u001b[0m",
      "\u001b[0;31mAssertionError\u001b[0m                            Traceback (most recent call last)",
      "\u001b[0;32m<ipython-input-482-8b18c0d69971>\u001b[0m in \u001b[0;36m<module>\u001b[0;34m()\u001b[0m\n\u001b[1;32m     12\u001b[0m         \u001b[0mitems\u001b[0m\u001b[0;34m[\u001b[0m\u001b[0mindexes\u001b[0m\u001b[0;34m[\u001b[0m\u001b[0midx_idx\u001b[0m\u001b[0;34m]\u001b[0m\u001b[0;34m]\u001b[0m\u001b[0;34m\u001b[0m\u001b[0m\n\u001b[1;32m     13\u001b[0m \u001b[0;34m\u001b[0m\u001b[0m\n\u001b[0;32m---> 14\u001b[0;31m \u001b[0;32massert\u001b[0m \u001b[0mk_zero_sum\u001b[0m\u001b[0;34m(\u001b[0m\u001b[0;34m[\u001b[0m\u001b[0;34m-\u001b[0m\u001b[0;36m2\u001b[0m\u001b[0;34m,\u001b[0m \u001b[0;34m-\u001b[0m\u001b[0;36m1\u001b[0m\u001b[0;34m,\u001b[0m \u001b[0;36m0\u001b[0m\u001b[0;34m,\u001b[0m \u001b[0;36m1\u001b[0m\u001b[0;34m,\u001b[0m \u001b[0;36m2\u001b[0m\u001b[0;34m]\u001b[0m\u001b[0;34m,\u001b[0m \u001b[0;36m1\u001b[0m\u001b[0;34m)\u001b[0m \u001b[0;34m==\u001b[0m \u001b[0;34m[\u001b[0m\u001b[0;34m(\u001b[0m\u001b[0;36m1\u001b[0m\u001b[0;34m)\u001b[0m\u001b[0;34m]\u001b[0m\u001b[0;34m\u001b[0m\u001b[0m\n\u001b[0m\u001b[1;32m     15\u001b[0m \u001b[0;32massert\u001b[0m \u001b[0mk_zero_sum\u001b[0m\u001b[0;34m(\u001b[0m\u001b[0;34m[\u001b[0m\u001b[0;34m-\u001b[0m\u001b[0;36m2\u001b[0m\u001b[0;34m,\u001b[0m \u001b[0;34m-\u001b[0m\u001b[0;36m1\u001b[0m\u001b[0;34m,\u001b[0m \u001b[0;36m0\u001b[0m\u001b[0;34m,\u001b[0m \u001b[0;36m1\u001b[0m\u001b[0;34m,\u001b[0m \u001b[0;36m2\u001b[0m\u001b[0;34m]\u001b[0m\u001b[0;34m,\u001b[0m \u001b[0;36m2\u001b[0m\u001b[0;34m)\u001b[0m \u001b[0;34m==\u001b[0m \u001b[0;34m[\u001b[0m\u001b[0;34m(\u001b[0m\u001b[0;36m0\u001b[0m\u001b[0;34m,\u001b[0m \u001b[0;36m4\u001b[0m\u001b[0;34m)\u001b[0m\u001b[0;34m,\u001b[0m \u001b[0;34m(\u001b[0m\u001b[0;36m1\u001b[0m\u001b[0;34m,\u001b[0m \u001b[0;36m3\u001b[0m\u001b[0;34m)\u001b[0m\u001b[0;34m]\u001b[0m\u001b[0;34m\u001b[0m\u001b[0m\n\u001b[1;32m     16\u001b[0m \u001b[0;32massert\u001b[0m \u001b[0mk_zero_sum\u001b[0m\u001b[0;34m(\u001b[0m\u001b[0;34m[\u001b[0m\u001b[0;34m-\u001b[0m\u001b[0;36m2\u001b[0m\u001b[0;34m,\u001b[0m \u001b[0;34m-\u001b[0m\u001b[0;36m1\u001b[0m\u001b[0;34m,\u001b[0m \u001b[0;36m0\u001b[0m\u001b[0;34m,\u001b[0m \u001b[0;36m1\u001b[0m\u001b[0;34m,\u001b[0m \u001b[0;36m2\u001b[0m\u001b[0;34m]\u001b[0m\u001b[0;34m,\u001b[0m \u001b[0;36m3\u001b[0m\u001b[0;34m)\u001b[0m \u001b[0;34m==\u001b[0m \u001b[0;34m[\u001b[0m\u001b[0;34m(\u001b[0m\u001b[0;36m0\u001b[0m\u001b[0;34m,\u001b[0m \u001b[0;36m2\u001b[0m\u001b[0;34m,\u001b[0m \u001b[0;36m4\u001b[0m\u001b[0;34m)\u001b[0m\u001b[0;34m,\u001b[0m \u001b[0;34m(\u001b[0m\u001b[0;36m1\u001b[0m\u001b[0;34m,\u001b[0m \u001b[0;36m2\u001b[0m\u001b[0;34m,\u001b[0m \u001b[0;36m3\u001b[0m\u001b[0;34m)\u001b[0m\u001b[0;34m]\u001b[0m\u001b[0;34m\u001b[0m\u001b[0m\n",
      "\u001b[0;31mAssertionError\u001b[0m: "
     ]
    }
   ],
   "source": [
    "def sum_indexes(items, indexes):\n",
    "    return sum(items[idx] for idx in indexes)\n",
    "\n",
    "assert sum_indexes([1,2,3,4], []) == 0\n",
    "assert sum_indexes([1,2,3,4], [0]) == 1\n",
    "assert sum_indexes([1,2,3,4], [0, 2]) == 1 + 3\n",
    "assert sum_indexes([1,2,3,4], [0, 2, 3]) == 1 + 3 + 4\n",
    "\n",
    "def k_zero_sum(items, k):\n",
    "    indexes = [0] * k\n",
    "    for idx_idx, _ in enumerate(indexes):\n",
    "        for _ in range(len(items)):\n",
    "            if sum_indexes(items, indexes) == 0:\n",
    "                yield indexes\n",
    "            indexes[idx_idx]+=1\n",
    "        \n",
    "\n",
    "assert k_zero_sum([-2, -1, 0, 1, 2], 1) == [(1)]\n",
    "assert k_zero_sum([-2, -1, 0, 1, 2], 2) == [(0, 4), (1, 3)]\n",
    "assert k_zero_sum([-2, -1, 0, 1, 2], 3) == [(0, 2, 4), (1, 2, 3)]\n",
    "assert k_zero_sum([-2, -1, 0, 1, 2], 4) == [(0, 1, 3, 4)]\n",
    "assert k_zero_sum([-2, -1, 0, 1, 2], 5) == [(0, 1, 2, 3, 4)]"
   ]
  },
  {
   "cell_type": "code",
   "execution_count": 479,
   "metadata": {},
   "outputs": [
    {
     "name": "stdout",
     "output_type": "stream",
     "text": [
      "[-60, 78, -65, -14, -51, 47, 83, -85, -92, -8, -25, -76, 63, -5, 7, 1, -24, 17, -26, -32, -26, 22, -71, -31, -61, 57, 72, 20, 78, 37, -81, -58, -42, 29, -42, 59, 65, 11, 30, 28, 78, -79, -46, -100, -88, -42, -41, 53, -98, 51, 13, -49, 3, -3, -32, -52, -82, -31, -87, -25, 33, 13, -56, -24, -9, 7, -32, 30, 72, -56, -42, 41, -32, 45, -14, -32, -61, -10, 41, 96, -68, 69, 43, 90, 26, 82, -38, -100, 6, -38, 92, -91, 68, -71, 39, 64, 9, 17, -42, -80]\n"
     ]
    }
   ],
   "source": [
    "items = map(lambda _: random.randint(-100, 100), range(100))\n",
    "print(list(items))\n",
    "\n"
   ]
  },
  {
   "cell_type": "code",
   "execution_count": 484,
   "metadata": {},
   "outputs": [
    {
     "data": {
      "text/plain": [
       "{0, 2, 3, 10}"
      ]
     },
     "execution_count": 484,
     "metadata": {},
     "output_type": "execute_result"
    }
   ],
   "source": [
    "import random\n",
    "\n",
    "ints = [random.randint(0, 30) for _ in range(30)]\n",
    "set([10, 0, 2, 3, 2, 0])"
   ]
  },
  {
   "cell_type": "code",
   "execution_count": 485,
   "metadata": {
    "collapsed": true
   },
   "outputs": [],
   "source": [
    "res = []\n",
    "for i in ints:\n",
    "    if i not in res:\n",
    "        res.append(i)\n"
   ]
  },
  {
   "cell_type": "code",
   "execution_count": 486,
   "metadata": {},
   "outputs": [
    {
     "data": {
      "text/plain": [
       "[8, 24, 29, 5, 4, 19, 17, 26, 7, 20, 23, 14, 1, 10, 11, 16, 27, 9, 21, 25, 22]"
      ]
     },
     "execution_count": 486,
     "metadata": {},
     "output_type": "execute_result"
    }
   ],
   "source": [
    "res"
   ]
  },
  {
   "cell_type": "code",
   "execution_count": 541,
   "metadata": {},
   "outputs": [],
   "source": [
    "exist = {}\n",
    "res = []\n",
    "for i in ints:\n",
    "    if not exist.get(i, False):\n",
    "        exist[i] = True\n",
    "        res.append(i)"
   ]
  },
  {
   "cell_type": "code",
   "execution_count": 488,
   "metadata": {},
   "outputs": [
    {
     "data": {
      "text/plain": [
       "[8, 24, 29, 5, 4, 19, 17, 26, 7, 20, 23, 14, 1, 10, 11, 16, 27, 9, 21, 25, 22]"
      ]
     },
     "execution_count": 488,
     "metadata": {},
     "output_type": "execute_result"
    }
   ],
   "source": [
    "res"
   ]
  },
  {
   "cell_type": "code",
   "execution_count": 491,
   "metadata": {},
   "outputs": [
    {
     "data": {
      "text/plain": [
       "True"
      ]
     },
     "execution_count": 491,
     "metadata": {},
     "output_type": "execute_result"
    }
   ],
   "source": [
    "'asdf' < 'fdsa'"
   ]
  },
  {
   "cell_type": "code",
   "execution_count": 492,
   "metadata": {},
   "outputs": [
    {
     "data": {
      "text/plain": [
       "[{'age': 27, 'name': 'Alice'},\n",
       " {'age': 20, 'name': 'Alice'},\n",
       " {'age': 24, 'name': 'Bob'},\n",
       " {'age': 27, 'name': 'Renat'}]"
      ]
     },
     "execution_count": 492,
     "metadata": {},
     "output_type": "execute_result"
    }
   ],
   "source": [
    "# sort by few keys\n",
    "\n",
    "students = [{'name': 'Alice', 'age': 20}, {'name': 'Bob', 'age': 24}, {'name': 'Alice', 'age': 27}, {'name': 'Renat', 'age': 27}]\n",
    "\n",
    "sorted(students, key=lambda student: (student['name'], -student['age']))"
   ]
  },
  {
   "cell_type": "code",
   "execution_count": 498,
   "metadata": {
    "collapsed": true
   },
   "outputs": [],
   "source": [
    "d = {'a': [1, 2, 3], 'b': [3, 4, 5]}\n",
    "# Need to obtain a set of unique values like this:\n",
    "{1, 2, 3, 4, 5}\n",
    "\n",
    "res = set()\n",
    "\n",
    "for key, values in d.items():\n",
    "    for v in values:\n",
    "        res.add(v)\n"
   ]
  },
  {
   "cell_type": "raw",
   "metadata": {},
   "source": [
    "res"
   ]
  },
  {
   "cell_type": "code",
   "execution_count": 499,
   "metadata": {},
   "outputs": [
    {
     "data": {
      "text/plain": [
       "{1, 2, 3, 4, 5}"
      ]
     },
     "execution_count": 499,
     "metadata": {},
     "output_type": "execute_result"
    }
   ],
   "source": [
    "res"
   ]
  },
  {
   "cell_type": "code",
   "execution_count": 500,
   "metadata": {},
   "outputs": [
    {
     "data": {
      "text/plain": [
       "8"
      ]
     },
     "execution_count": 500,
     "metadata": {},
     "output_type": "execute_result"
    }
   ],
   "source": [
    "# 3. You are given the code:\n",
    "\n",
    "foo = [lambda x: x * i for i in range(5)]\n",
    "\n",
    "# What is going to be inside this “foo” variable?\n",
    "\n",
    "# What is the result of executing this code?\n",
    "\n",
    "foo[0](2)\n",
    "\n"
   ]
  },
  {
   "cell_type": "code",
   "execution_count": 542,
   "metadata": {},
   "outputs": [
    {
     "ename": "SyntaxError",
     "evalue": "iterable unpacking cannot be used in comprehension (<ipython-input-542-1d99e8758a9a>, line 9)",
     "output_type": "error",
     "traceback": [
      "\u001b[0;36m  File \u001b[0;32m\"<ipython-input-542-1d99e8758a9a>\"\u001b[0;36m, line \u001b[0;32m9\u001b[0m\n\u001b[0;31m    res = [*values for key, values in d.items()]\u001b[0m\n\u001b[0m          ^\u001b[0m\n\u001b[0;31mSyntaxError\u001b[0m\u001b[0;31m:\u001b[0m iterable unpacking cannot be used in comprehension\n"
     ]
    }
   ],
   "source": [
    "import itertools\n",
    "\n",
    "d = {'a': [1, 2, 3], 'b': [3, 4, 5]}\n",
    "\n",
    "# Need to obtain a set of unique values like this:\n",
    "# https://docs.python.org/3.6/library/itertools.html#itertools.chain\n",
    "res = set(itertools.chain.from_iterable(d.values()))\n",
    "\n",
    "# SyntaxError: iterable unpacking cannot be used in comprehension\n",
    "# res = [*values for key, values in d.items()]\n",
    "\n",
    "# res = [v for v in values for key, values in d.items()]\n",
    "# res = set()\n",
    "# for key, values in d.items():\n",
    "#     for v in values:\n",
    "#         res.add(v)\n",
    "\n",
    "assert res == {1, 2, 3, 4, 5}"
   ]
  },
  {
   "cell_type": "code",
   "execution_count": 519,
   "metadata": {},
   "outputs": [
    {
     "name": "stdout",
     "output_type": "stream",
     "text": [
      "Help on built-in function reduce in module _functools:\n",
      "\n",
      "reduce(...)\n",
      "    reduce(function, sequence[, initial]) -> value\n",
      "    \n",
      "    Apply a function of two arguments cumulatively to the items of a sequence,\n",
      "    from left to right, so as to reduce the sequence to a single value.\n",
      "    For example, reduce(lambda x, y: x+y, [1, 2, 3, 4, 5]) calculates\n",
      "    ((((1+2)+3)+4)+5).  If initial is present, it is placed before the items\n",
      "    of the sequence in the calculation, and serves as a default when the\n",
      "    sequence is empty.\n",
      "\n"
     ]
    }
   ],
   "source": [
    "import functools\n",
    "functools.reduce(lambda _:_, d, ())"
   ]
  },
  {
   "cell_type": "code",
   "execution_count": 546,
   "metadata": {},
   "outputs": [
    {
     "data": {
      "text/plain": [
       "True"
      ]
     },
     "execution_count": 546,
     "metadata": {},
     "output_type": "execute_result"
    }
   ],
   "source": [
    "9 in set(range(10))"
   ]
  },
  {
   "cell_type": "code",
   "execution_count": null,
   "metadata": {
    "collapsed": true
   },
   "outputs": [],
   "source": []
  }
 ],
 "metadata": {
  "kernelspec": {
   "display_name": "Python 3",
   "language": "python",
   "name": "python3"
  },
  "language_info": {
   "codemirror_mode": {
    "name": "ipython",
    "version": 3
   },
   "file_extension": ".py",
   "mimetype": "text/x-python",
   "name": "python",
   "nbconvert_exporter": "python",
   "pygments_lexer": "ipython3",
   "version": "3.6.3"
  }
 },
 "nbformat": 4,
 "nbformat_minor": 2
}
