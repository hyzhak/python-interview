{
 "cells": [
  {
   "cell_type": "markdown",
   "metadata": {},
   "source": [
    "https://twitter.com/hugo_larochelle/status/940584894274695168\n",
    "\n",
    "value:\n",
    "```\n",
    "CmAKD0Zyb21fX0dvb2dsZV9fN0JDCAcSA\n",
    "El9TGVhcm4gdG8gdGVhY2ggbWFjaGluZX\n",
    "MgdG8gbGVhcm4gYXQgZy5jby9haXJlc2lk\n",
    "ZW5jeWNoYWxsZW5nZUoICgYKBHRIeHQ\n",
    "```\n",
    "\n",
    "another tweet:\n",
    "https://twitter.com/SussilloDavid/status/940963706002800640"
   ]
  },
  {
   "cell_type": "code",
   "execution_count": 69,
   "metadata": {},
   "outputs": [
    {
     "name": "stdout",
     "output_type": "stream",
     "text": [
      "b'\\n`\\n\\x0fFrom__Google__7BC\\x08\\x07\\x12\\x00I}Learn to teach machines to learn at g.co/airesidencychallengeJ\\x08\\n\\x06\\n\\x04tHxt'\n",
      "b'\\nt\\n\\x0fFrom__Google__6BW\\x08\\x07\\x12\\x00BQGoogle\\x94AI Residency Program\\x94- Check us out\\x94and apply at g.co/airesidencychallengeJ\\x08\\n\\x06\\n\\x04text'\n",
      "\u001b[1m[B]\u001b[0mold\n"
     ]
    }
   ],
   "source": [
    "import base64\n",
    "from pprint import pprint\n",
    "\n",
    "value = 'CmAKD0Zyb21fX0dvb2dsZV9fN0JDCAcSA'\\\n",
    "        'El9TGVhcm4gdG8gdGVhY2ggbWFjaGluZX'\\\n",
    "        'MgdG8gbGVhcm4gYXQgZy5jby9haXJlc2lk'\\\n",
    "        'ZW5jeWNoYWxsZW5nZUoICgYKBHRIeHQ'\n",
    "value += '=' * (len(value) % 3)\n",
    "print(base64.b64decode(value))\n",
    "\n",
    "value2 = 'CnQKD0Zyb21fX0dvb2dsZV9fNkJXCAcSAEJRR29vZ2xllEFJIFJlc2lk'\\\n",
    "         'ZW5jeSBQcm9ncmFtlC0gQ2hlY2sgdXMgb3V0lGFuZCBhcHBseSBh'\\\n",
    "         'dCBnLmNvL2FpcmVzaWRlbmN5Y2hhbGxlbmdlSggKBgoEdGV4dA'\n",
    "value2 += '=' * (len(value2) % 3)\n",
    "print(base64.b64decode(value2))\n",
    "\n",
    "print('\\033[1m[B]\\033[0mold')"
   ]
  },
  {
   "cell_type": "code",
   "execution_count": null,
   "metadata": {
    "collapsed": true
   },
   "outputs": [],
   "source": []
  }
 ],
 "metadata": {
  "kernelspec": {
   "display_name": "Python 3",
   "language": "python",
   "name": "python3"
  },
  "language_info": {
   "codemirror_mode": {
    "name": "ipython",
    "version": 3
   },
   "file_extension": ".py",
   "mimetype": "text/x-python",
   "name": "python",
   "nbconvert_exporter": "python",
   "pygments_lexer": "ipython3",
   "version": "3.6.3"
  }
 },
 "nbformat": 4,
 "nbformat_minor": 2
}
