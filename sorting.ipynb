{
 "cells": [
  {
   "cell_type": "code",
   "execution_count": 1,
   "metadata": {
    "collapsed": true
   },
   "outputs": [],
   "source": [
    "import random"
   ]
  },
  {
   "cell_type": "code",
   "execution_count": 6,
   "metadata": {},
   "outputs": [],
   "source": [
    "def is_sorted(data):\n",
    "    return all([d_1 <= d2 for d_1, d2 in zip(data, data[1:])])\n",
    "\n",
    "assert is_sorted([1,2,3,4])\n",
    "assert not is_sorted([4,3,2,1])\n",
    "assert not is_sorted([1,3,2,4])\n",
    "\n",
    "def swap(data, i, j):\n",
    "    \"\"\"\n",
    "    swap t\n",
    "    \"\"\"\n",
    "    data[i], data[j] = data[j], data[i]\n",
    "\n",
    "l = [1,2,3]\n",
    "swap(l, 0, 2)\n",
    "assert l == [3,2,1]"
   ]
  },
  {
   "cell_type": "code",
   "execution_count": 3,
   "metadata": {},
   "outputs": [],
   "source": [
    "random.seed('sorting')\n",
    "data = list(map(lambda _: random.randint(1, 100), range(100)))"
   ]
  },
  {
   "cell_type": "markdown",
   "metadata": {},
   "source": [
    "## insertion sort\n",
    "https://en.wikipedia.org/wiki/Insertion_sort\n",
    "- complexity $O(N^{2})$\n",
    "\n",
    "pseudocode\n",
    "```\n",
    "i ← 1\n",
    "while i < length(A)\n",
    "    j ← i\n",
    "    while j > 0 and A[j-1] > A[j]\n",
    "        swap A[j] and A[j-1]\n",
    "        j ← j - 1\n",
    "    end while\n",
    "    i ← i + 1\n",
    "end while\n",
    "```"
   ]
  },
  {
   "cell_type": "code",
   "execution_count": 4,
   "metadata": {},
   "outputs": [
    {
     "name": "stdout",
     "output_type": "stream",
     "text": [
      "passed:\n",
      "[24, 64, 47, 8, 48, 54, 86, 93, 98, 8, 70, 27, 46, 11, 58, 55, 58, 82, 56, 89, 70, 46, 10, 77, 5, 1, 1, 90, 33, 45, 91, 32, 6, 31, 61, 89, 89, 58, 61, 84, 56, 28, 92, 19, 69, 68, 63, 51, 93, 34, 95, 67, 81, 80, 55, 15, 64, 64, 100, 21, 74, 41, 90, 52, 25, 38, 59, 46, 65, 67, 41, 5, 16, 20, 6, 22, 75, 28, 28, 85, 53, 46, 88, 86, 89, 50, 25, 58, 10, 64, 53, 78, 82, 16, 83, 58, 86, 65, 77, 4]\n",
      "\n",
      "result:\n",
      "[1, 1, 4, 5, 5, 6, 6, 8, 8, 10, 10, 11, 15, 16, 16, 19, 20, 21, 22, 24, 25, 25, 27, 28, 28, 28, 31, 32, 33, 34, 38, 41, 41, 45, 46, 46, 46, 46, 47, 48, 50, 51, 52, 53, 53, 54, 55, 55, 56, 56, 58, 58, 58, 58, 58, 59, 61, 61, 63, 64, 64, 64, 64, 65, 65, 67, 67, 68, 69, 70, 70, 74, 75, 77, 77, 78, 80, 81, 82, 82, 83, 84, 85, 86, 86, 86, 88, 89, 89, 89, 89, 90, 90, 91, 92, 93, 93, 95, 98, 100]\n"
     ]
    }
   ],
   "source": [
    "def insertion_sort(data):\n",
    "    # because we mutate list we are going to clone input list\n",
    "    data = data[:]\n",
    "    \n",
    "    i = 1\n",
    "    while i < len(data):\n",
    "        j = i\n",
    "        while j > 0 and data[j-1] > data[j]:\n",
    "            swap(data, j, j-1)\n",
    "            j = j - 1\n",
    "        i = i + 1\n",
    "    return data\n",
    "\n",
    "res = insertion_sort(data)\n",
    "assert res is not data\n",
    "assert is_sorted(res)\n",
    "\n",
    "print('passed:')\n",
    "print(data)\n",
    "print()\n",
    "print('result:')\n",
    "print(res)"
   ]
  },
  {
   "cell_type": "code",
   "execution_count": null,
   "metadata": {
    "collapsed": true
   },
   "outputs": [],
   "source": []
  }
 ],
 "metadata": {
  "kernelspec": {
   "display_name": "Python 3",
   "language": "python",
   "name": "python3"
  },
  "language_info": {
   "codemirror_mode": {
    "name": "ipython",
    "version": 3
   },
   "file_extension": ".py",
   "mimetype": "text/x-python",
   "name": "python",
   "nbconvert_exporter": "python",
   "pygments_lexer": "ipython3",
   "version": "3.6.3"
  }
 },
 "nbformat": 4,
 "nbformat_minor": 2
}
