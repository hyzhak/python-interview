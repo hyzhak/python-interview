{
 "cells": [
  {
   "cell_type": "code",
   "execution_count": 1,
   "metadata": {
    "collapsed": true
   },
   "outputs": [],
   "source": [
    "import random\n",
    "import seaborn as sns\n",
    "import matplotlib.pyplot as plt"
   ]
  },
  {
   "cell_type": "code",
   "execution_count": 2,
   "metadata": {
    "collapsed": true
   },
   "outputs": [],
   "source": [
    "def is_sorted(data):\n",
    "    \"\"\"\n",
    "    check whether list is sorted\n",
    "    \"\"\"\n",
    "    return all([d_1 <= d2 for d_1, d2 in zip(data, data[1:])])\n",
    "\n",
    "assert is_sorted([1,2,3,4])\n",
    "assert not is_sorted([4,3,2,1])\n",
    "assert not is_sorted([1,3,2,4])\n",
    "\n",
    "def swap(data, i, j):\n",
    "    \"\"\"\n",
    "    swap two values in data list\n",
    "    \"\"\"\n",
    "    data[i], data[j] = data[j], data[i]\n",
    "\n",
    "l = [1,2,3]\n",
    "swap(l, 0, 2)\n",
    "assert l == [3,2,1]"
   ]
  },
  {
   "cell_type": "code",
   "execution_count": 3,
   "metadata": {},
   "outputs": [
    {
     "data": {
      "image/png": "[encoded data removed]",
      "text/plain": [
       "<matplotlib.figure.Figure at 0x7f0ba35564a8>"
      ]
     },
     "metadata": {},
     "output_type": "display_data"
    }
   ],
   "source": [
    "random.seed('sorting')\n",
    "data = list(map(lambda _: random.randint(1, 100), range(100)))\n",
    "\n",
    "plt.bar(range(len(data)), data);"
   ]
  },
  {
   "cell_type": "markdown",
   "metadata": {},
   "source": [
    "# insertion sort\n",
    "https://en.wikipedia.org/wiki/Insertion_sort\n",
    "- complexity $O(N^{2})$\n",
    "\n",
    "pseudocode\n",
    "```\n",
    "i ← 1\n",
    "while i < length(A)\n",
    "    j ← i\n",
    "    while j > 0 and A[j-1] > A[j]\n",
    "        swap A[j] and A[j-1]\n",
    "        j ← j - 1\n",
    "    end while\n",
    "    i ← i + 1\n",
    "end while\n",
    "```"
   ]
  },
  {
   "cell_type": "code",
   "execution_count": 4,
   "metadata": {},
   "outputs": [
    {
     "name": "stdout",
     "output_type": "stream",
     "text": [
      "passed:\n",
      "[24, 64, 47, 8, 48, 54, 86, 93, 98, 8, 70, 27, 46, 11, 58, 55, 58, 82, 56, 89, 70, 46, 10, 77, 5, 1, 1, 90, 33, 45, 91, 32, 6, 31, 61, 89, 89, 58, 61, 84, 56, 28, 92, 19, 69, 68, 63, 51, 93, 34, 95, 67, 81, 80, 55, 15, 64, 64, 100, 21, 74, 41, 90, 52, 25, 38, 59, 46, 65, 67, 41, 5, 16, 20, 6, 22, 75, 28, 28, 85, 53, 46, 88, 86, 89, 50, 25, 58, 10, 64, 53, 78, 82, 16, 83, 58, 86, 65, 77, 4]\n",
      "\n",
      "result:\n",
      "[1, 1, 4, 5, 5, 6, 6, 8, 8, 10, 10, 11, 15, 16, 16, 19, 20, 21, 22, 24, 25, 25, 27, 28, 28, 28, 31, 32, 33, 34, 38, 41, 41, 45, 46, 46, 46, 46, 47, 48, 50, 51, 52, 53, 53, 54, 55, 55, 56, 56, 58, 58, 58, 58, 58, 59, 61, 61, 63, 64, 64, 64, 64, 65, 65, 67, 67, 68, 69, 70, 70, 74, 75, 77, 77, 78, 80, 81, 82, 82, 83, 84, 85, 86, 86, 86, 88, 89, 89, 89, 89, 90, 90, 91, 92, 93, 93, 95, 98, 100]\n"
     ]
    }
   ],
   "source": [
    "def insertion_sort_straightway(data):\n",
    "    # because we mutate list we are going to clone input list\n",
    "    data = data[:]\n",
    "    \n",
    "    i = 1\n",
    "    while i < len(data):\n",
    "        j = i\n",
    "        while j > 0 and data[j-1] > data[j]:\n",
    "            swap(data, j, j-1)\n",
    "            j = j - 1\n",
    "        i = i + 1\n",
    "    return data\n",
    "\n",
    "res = insertion_sort_straightway(data)\n",
    "assert res is not data\n",
    "assert is_sorted(res)\n",
    "\n",
    "print('passed:')\n",
    "print(data)\n",
    "print()\n",
    "print('result:')\n",
    "print(res)"
   ]
  },
  {
   "cell_type": "code",
   "execution_count": 5,
   "metadata": {},
   "outputs": [
    {
     "name": "stdout",
     "output_type": "stream",
     "text": [
      "passed:\n",
      "[24, 64, 47, 8, 48, 54, 86, 93, 98, 8, 70, 27, 46, 11, 58, 55, 58, 82, 56, 89, 70, 46, 10, 77, 5, 1, 1, 90, 33, 45, 91, 32, 6, 31, 61, 89, 89, 58, 61, 84, 56, 28, 92, 19, 69, 68, 63, 51, 93, 34, 95, 67, 81, 80, 55, 15, 64, 64, 100, 21, 74, 41, 90, 52, 25, 38, 59, 46, 65, 67, 41, 5, 16, 20, 6, 22, 75, 28, 28, 85, 53, 46, 88, 86, 89, 50, 25, 58, 10, 64, 53, 78, 82, 16, 83, 58, 86, 65, 77, 4]\n",
      "\n",
      "result:\n",
      "[1, 1, 4, 5, 5, 6, 6, 8, 8, 10, 10, 11, 15, 16, 16, 19, 20, 21, 22, 24, 25, 25, 27, 28, 28, 28, 31, 32, 33, 34, 38, 41, 41, 45, 46, 46, 46, 46, 47, 48, 50, 51, 52, 53, 53, 54, 55, 55, 56, 56, 58, 58, 58, 58, 58, 59, 61, 61, 63, 64, 64, 64, 64, 65, 65, 67, 67, 68, 69, 70, 70, 74, 75, 77, 77, 78, 80, 81, 82, 82, 83, 84, 85, 86, 86, 86, 88, 89, 89, 89, 89, 90, 90, 91, 92, 93, 93, 95, 98, 100]\n"
     ]
    }
   ],
   "source": [
    "def insertion_sort_pythonic(data):\n",
    "    # because we mutate list we are going to clone input list\n",
    "    data = data[:]\n",
    "    \n",
    "    for i in range(1, len(data)):\n",
    "        for j in reversed(range(i + 1)):\n",
    "            if data[j-1] <= data[j]:\n",
    "                break\n",
    "            swap(data, j, j-1)\n",
    "    return data\n",
    "\n",
    "print('passed:')\n",
    "print(data)\n",
    "\n",
    "res = insertion_sort_pythonic(data)\n",
    "assert res is not data\n",
    "print()\n",
    "print('result:')\n",
    "print(res)\n",
    "assert is_sorted(res)\n",
    "\n"
   ]
  },
  {
   "cell_type": "markdown",
   "metadata": {},
   "source": [
    "# Selection Sorting\n",
    "https://en.wikipedia.org/wiki/Selection_sort\n",
    "- complexity $O(N^{2})$\n",
    "\n",
    "```\n",
    "/* a[0] to a[n-1] is the array to sort */\n",
    "int i,j;\n",
    "int n;\n",
    "\n",
    "/* advance the position through the entire array */\n",
    "/*   (could do j < n-1 because single element is also min element) */\n",
    "for (j = 0; j < n-1; j++)\n",
    "{\n",
    "    /* find the min element in the unsorted a[j .. n-1] */\n",
    "\n",
    "    /* assume the min is the first element */\n",
    "    int iMin = j;\n",
    "    /* test against elements after j to find the smallest */\n",
    "    for (i = j+1; i < n; i++)\n",
    "    {\n",
    "        /* if this element is less, then it is the new minimum */\n",
    "        if (a[i] < a[iMin])\n",
    "        {\n",
    "            /* found new minimum; remember its index */\n",
    "            iMin = i;\n",
    "        }\n",
    "    }\n",
    "\n",
    "    if (iMin != j) \n",
    "    {\n",
    "        swap(a[j], a[iMin]);\n",
    "    }\n",
    "}\n",
    "```"
   ]
  },
  {
   "cell_type": "code",
   "execution_count": 6,
   "metadata": {},
   "outputs": [
    {
     "name": "stdout",
     "output_type": "stream",
     "text": [
      "passed:\n",
      "[24, 64, 47, 8, 48, 54, 86, 93, 98, 8, 70, 27, 46, 11, 58, 55, 58, 82, 56, 89, 70, 46, 10, 77, 5, 1, 1, 90, 33, 45, 91, 32, 6, 31, 61, 89, 89, 58, 61, 84, 56, 28, 92, 19, 69, 68, 63, 51, 93, 34, 95, 67, 81, 80, 55, 15, 64, 64, 100, 21, 74, 41, 90, 52, 25, 38, 59, 46, 65, 67, 41, 5, 16, 20, 6, 22, 75, 28, 28, 85, 53, 46, 88, 86, 89, 50, 25, 58, 10, 64, 53, 78, 82, 16, 83, 58, 86, 65, 77, 4]\n",
      "\n",
      "result:\n",
      "[1, 1, 4, 5, 5, 6, 6, 8, 8, 10, 10, 11, 15, 16, 16, 19, 20, 21, 22, 24, 25, 25, 27, 28, 28, 28, 31, 32, 33, 34, 38, 41, 41, 45, 46, 46, 46, 46, 47, 48, 50, 51, 52, 53, 53, 54, 55, 55, 56, 56, 58, 58, 58, 58, 58, 59, 61, 61, 63, 64, 64, 64, 64, 65, 65, 67, 67, 68, 69, 70, 70, 74, 75, 77, 77, 78, 80, 81, 82, 82, 83, 84, 85, 86, 86, 86, 88, 89, 89, 89, 89, 90, 90, 91, 92, 93, 93, 95, 98, 100]\n"
     ]
    }
   ],
   "source": [
    "def selection_sort_straightway(data):\n",
    "    # because we mutate list we are going to clone input list\n",
    "    data = data[:]\n",
    "    n = len(data)\n",
    "    for j in range(0, n - 1):\n",
    "        i_min = j\n",
    "        for i in range(j+1, n):\n",
    "            if data[i] < data[i_min]:\n",
    "                i_min = i\n",
    "        \n",
    "        if i_min != j:\n",
    "            swap(data, j, i_min)\n",
    "    \n",
    "    return data\n",
    "\n",
    "print('passed:')\n",
    "print(data)\n",
    "\n",
    "res = selection_sort_straightway(data)\n",
    "assert res is not data\n",
    "\n",
    "print()\n",
    "print('result:')\n",
    "print(res)\n",
    "assert is_sorted(res)\n"
   ]
  },
  {
   "cell_type": "code",
   "execution_count": 7,
   "metadata": {},
   "outputs": [
    {
     "name": "stdout",
     "output_type": "stream",
     "text": [
      "passed:\n",
      "[24, 64, 47, 8, 48, 54, 86, 93, 98, 8, 70, 27, 46, 11, 58, 55, 58, 82, 56, 89, 70, 46, 10, 77, 5, 1, 1, 90, 33, 45, 91, 32, 6, 31, 61, 89, 89, 58, 61, 84, 56, 28, 92, 19, 69, 68, 63, 51, 93, 34, 95, 67, 81, 80, 55, 15, 64, 64, 100, 21, 74, 41, 90, 52, 25, 38, 59, 46, 65, 67, 41, 5, 16, 20, 6, 22, 75, 28, 28, 85, 53, 46, 88, 86, 89, 50, 25, 58, 10, 64, 53, 78, 82, 16, 83, 58, 86, 65, 77, 4]\n"
     ]
    }
   ],
   "source": [
    "def selection_sort_pythonic(data):\n",
    "    # because we mutate list we are going to clone input list\n",
    "    data = data[:]\n",
    "    # TODO: ?\n",
    "    \n",
    "    return data\n",
    "\n",
    "print('passed:')\n",
    "print(data)\n",
    "\n",
    "res = selection_sort_straightway(data)\n",
    "assert res is not data\n",
    "\n",
    "# Is not implemented yet\n",
    "# print()\n",
    "# print('result:')\n",
    "# print(res)\n",
    "# assert is_sorted(res)\n"
   ]
  },
  {
   "cell_type": "markdown",
   "metadata": {},
   "source": [
    "## Shell Sort\n",
    "https://en.wikipedia.org/wiki/Shellsort\n",
    "```\n",
    "# Sort an array a[0...n-1].\n",
    "gaps = [701, 301, 132, 57, 23, 10, 4, 1]\n",
    "\n",
    "# Start with the largest gap and work down to a gap of 1\n",
    "foreach (gap in gaps)\n",
    "{\n",
    "    # Do a gapped insertion sort for this gap size.\n",
    "    # The first gap elements a[0..gap-1] are already in gapped order\n",
    "    # keep adding one more element until the entire array is gap sorted\n",
    "    for (i = gap; i < n; i += 1)\n",
    "    {\n",
    "        # add a[i] to the elements that have been gap sorted\n",
    "        # save a[i] in temp and make a hole at position i\n",
    "        temp = a[i]\n",
    "        # shift earlier gap-sorted elements up until the correct location for a[i] is found\n",
    "        for (j = i; j >= gap and a[j - gap] > temp; j -= gap)\n",
    "        {\n",
    "            a[j] = a[j - gap]\n",
    "        }\n",
    "        # put temp (the original a[i]) in its correct location\n",
    "        a[j] = temp\n",
    "    }\n",
    "}\n",
    "```"
   ]
  },
  {
   "cell_type": "code",
   "execution_count": 27,
   "metadata": {
    "scrolled": false
   },
   "outputs": [
    {
     "name": "stdout",
     "output_type": "stream",
     "text": [
      "passed:\n",
      "[24, 64, 47, 8, 48, 54, 86, 93, 98, 8, 70, 27, 46, 11, 58, 55, 58, 82, 56, 89, 70, 46, 10, 77, 5, 1, 1, 90, 33, 45, 91, 32, 6, 31, 61, 89, 89, 58, 61, 84, 56, 28, 92, 19, 69, 68, 63, 51, 93, 34, 95, 67, 81, 80, 55, 15, 64, 64, 100, 21, 74, 41, 90, 52, 25, 38, 59, 46, 65, 67, 41, 5, 16, 20, 6, 22, 75, 28, 28, 85, 53, 46, 88, 86, 89, 50, 25, 58, 10, 64, 53, 78, 82, 16, 83, 58, 86, 65, 77, 4]\n",
      "\n",
      "result:\n",
      "[1, 1, 4, 5, 5, 6, 6, 8, 8, 10, 10, 11, 15, 16, 16, 19, 20, 21, 22, 24, 25, 25, 27, 28, 28, 28, 31, 32, 33, 34, 38, 41, 41, 45, 46, 46, 46, 46, 47, 48, 50, 51, 52, 53, 53, 54, 55, 55, 56, 56, 58, 58, 58, 58, 58, 59, 61, 61, 63, 64, 64, 64, 64, 65, 65, 67, 67, 68, 69, 70, 70, 74, 75, 77, 77, 78, 80, 81, 82, 82, 83, 84, 85, 86, 86, 86, 88, 89, 89, 89, 89, 90, 90, 91, 92, 93, 93, 95, 98, 100]\n"
     ]
    },
    {
     "data": {
      "image/png": "[encoded data removed]",
      "text/plain": [
       "<matplotlib.figure.Figure at 0x7f0b9fc3feb8>"
      ]
     },
     "metadata": {},
     "output_type": "display_data"
    }
   ],
   "source": [
    "def shell_gaps(n):\n",
    "    \"\"\"\n",
    "    generate Shell's gaps which don't have good performance but very simple\n",
    "    \"\"\"\n",
    "    while n > 1:\n",
    "        n = n // 2\n",
    "        yield n\n",
    "\n",
    "\n",
    "def shell_sort(data):\n",
    "    data = data[:]\n",
    "    n = len(data)\n",
    "    \n",
    "    # use it for store animation of sorting\n",
    "    animation = []\n",
    "    # https://en.wikipedia.org/wiki/Shellsort#Gap_sequences\n",
    "    gaps = shell_gaps(n)\n",
    "    for gap in gaps:\n",
    "        # we are tring to find unsorted items in groups with gap\n",
    "        # so we are not interested in first [0, gap-1] items \n",
    "        # because they are first element in their group\n",
    "        for i in range(gap, n):\n",
    "            tmp = data[i]\n",
    "            j = i\n",
    "            # then we are bubble up items until they are bigger then selected item\n",
    "            while j >= gap and data[j - gap] > tmp: \n",
    "                data[j] = data[j - gap]\n",
    "                animation.append(data[:])\n",
    "                j -= gap\n",
    "            # then put selected item at the place when we didn't find bigger item\n",
    "            data[j] = tmp\n",
    "            animation.append(data[:])\n",
    "\n",
    "        # add fake line to show gap split\n",
    "        animation.append([100]*(n))\n",
    "    return data, animation\n",
    "\n",
    "print('passed:')\n",
    "print(data)\n",
    "\n",
    "res, sequence = shell_sort(data)\n",
    "assert res is not data\n",
    "\n",
    "print()\n",
    "print('result:')\n",
    "print(res)\n",
    "assert is_sorted(res)\n",
    "\n",
    "plt.figure(figsize=(16,16))\n",
    "plt.imshow(sequence, interpolation='none', aspect='auto', extent=[0,100,len(sequence), 0]);"
   ]
  },
  {
   "cell_type": "markdown",
   "metadata": {},
   "source": [
    "# Merge Sort\n",
    "https://en.wikipedia.org/wiki/Merge_sort\n",
    "\n"
   ]
  },
  {
   "cell_type": "code",
   "execution_count": null,
   "metadata": {
    "collapsed": true
   },
   "outputs": [],
   "source": []
  }
 ],
 "metadata": {
  "kernelspec": {
   "display_name": "Python 3",
   "language": "python",
   "name": "python3"
  },
  "language_info": {
   "codemirror_mode": {
    "name": "ipython",
    "version": 3
   },
   "file_extension": ".py",
   "mimetype": "text/x-python",
   "name": "python",
   "nbconvert_exporter": "python",
   "pygments_lexer": "ipython3",
   "version": "3.6.3"
  }
 },
 "nbformat": 4,
 "nbformat_minor": 2
}
