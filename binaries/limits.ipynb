{
 "cells": [
  {
   "cell_type": "code",
   "execution_count": 4,
   "metadata": {
    "collapsed": true
   },
   "outputs": [],
   "source": [
    "import math"
   ]
  },
  {
   "cell_type": "markdown",
   "metadata": {},
   "source": [
    "# binarry limits\n",
    "For js\n",
    "1 << 32 === 1,\n",
    "\n",
    "but for python"
   ]
  },
  {
   "cell_type": "code",
   "execution_count": 2,
   "metadata": {},
   "outputs": [
    {
     "name": "stdout",
     "output_type": "stream",
     "text": [
      "4294967296\n",
      "10\n"
     ]
    }
   ],
   "source": [
    "print(1 << 32)\n",
    "print(len(str(1 << 32)))"
   ]
  },
  {
   "cell_type": "markdown",
   "metadata": {},
   "source": [
    "# Converting to string (16-base)"
   ]
  },
  {
   "cell_type": "code",
   "execution_count": 23,
   "metadata": {},
   "outputs": [
    {
     "name": "stdout",
     "output_type": "stream",
     "text": [
      "0xffffffffffffffff\n"
     ]
    }
   ],
   "source": [
    "print(hex(2 ** 64 - 1))"
   ]
  },
  {
   "cell_type": "markdown",
   "metadata": {},
   "source": [
    "# Why 10-base numbers are not convenient for processing in js\n",
    "js can't operate with big (more then 32bit) integers so we should split input in few parts but in case of 10-based number we would get significant intersection between big part and little"
   ]
  },
  {
   "cell_type": "code",
   "execution_count": 22,
   "metadata": {},
   "outputs": [
    {
     "name": "stdout",
     "output_type": "stream",
     "text": [
      "Common 64-bit hash:\n",
      "5521297279245577514\n",
      "\n",
      "in bits:\n",
      "b0100110010011111100101101001111101010100110000110110110100101010\n",
      "\n",
      "10-base length: 18.74204113117567\n",
      "\n",
      "big part:\n",
      "05521297270000000000 == \n",
      "b0100110010011111100101101001110100101101101011110001110000000000\n",
      "\n",
      "small part:\n",
      "00000000009245577514 == \n",
      "b0000000000000000000000000000001000100111000101000101000100101010\n"
     ]
    }
   ],
   "source": [
    "print('Common 64-bit hash:\\n5521297279245577514')\n",
    "print()\n",
    "print(f'in bits:\\nb{5521297279245577514:064b}')\n",
    "print()\n",
    "print(f'10-base length: {math.log10(5521297279245577514)}')\n",
    "big = 5521297279245577514 // 10**10 * 10**10\n",
    "little = 5521297279245577514 % 10**10\n",
    "print()\n",
    "print('big part:')\n",
    "print(f'{big:020} == \\nb{big:064b}')\n",
    "print()\n",
    "print('small part:')\n",
    "print(f'{little:020} == \\nb{little:064b}')"
   ]
  },
  {
   "cell_type": "code",
   "execution_count": null,
   "metadata": {
    "collapsed": true
   },
   "outputs": [],
   "source": []
  }
 ],
 "metadata": {
  "kernelspec": {
   "display_name": "Python 3",
   "language": "python",
   "name": "python3"
  },
  "language_info": {
   "codemirror_mode": {
    "name": "ipython",
    "version": 3
   },
   "file_extension": ".py",
   "mimetype": "text/x-python",
   "name": "python",
   "nbconvert_exporter": "python",
   "pygments_lexer": "ipython3",
   "version": "3.6.6"
  }
 },
 "nbformat": 4,
 "nbformat_minor": 2
}
