{
 "cells": [
  {
   "cell_type": "markdown",
   "metadata": {},
   "source": [
    "# Python tricks and tips\n",
    "Some behaviour in python could be unclear. So we are testing it here"
   ]
  },
  {
   "cell_type": "code",
   "execution_count": 1,
   "metadata": {
    "collapsed": true
   },
   "outputs": [],
   "source": [
    "import functools\n",
    "from pprint import pprint"
   ]
  },
  {
   "cell_type": "markdown",
   "metadata": {},
   "source": [
    "# Lazy evaluation\n",
    "## create list of lambdas"
   ]
  },
  {
   "cell_type": "code",
   "execution_count": 2,
   "metadata": {
    "collapsed": true
   },
   "outputs": [],
   "source": [
    "list_of_nums = [1,2,3,4,5]\n",
    "square = lambda x: x * x"
   ]
  },
  {
   "cell_type": "markdown",
   "metadata": {},
   "source": [
    "## it fails because..."
   ]
  },
  {
   "cell_type": "code",
   "execution_count": 3,
   "metadata": {},
   "outputs": [
    {
     "name": "stdout",
     "output_type": "stream",
     "text": [
      "[25, 25, 25, 25, 25]\n"
     ]
    }
   ],
   "source": [
    "# wrong way to do that\n",
    "list_of_lambdas = [lambda: square(i) for i in list_of_nums]\n",
    "print(list(map(lambda i: list_of_lambdas[i](), range(len(list_of_nums)))))"
   ]
  },
  {
   "cell_type": "code",
   "execution_count": 4,
   "metadata": {},
   "outputs": [
    {
     "name": "stdout",
     "output_type": "stream",
     "text": [
      "[-1, -4, -9, -16, -25]\n",
      "[-1, -4, -9, -16, -25]\n"
     ]
    }
   ],
   "source": [
    "# correct ways\n",
    "list_of_partial = [functools.partial(lambda x, y: y*x*x, i) for i in list_of_nums]\n",
    "print(list(map(lambda i: list_of_partial[i](-1), range(len(list_of_nums)))))\n",
    "\n",
    "list_of_defs = [lambda y, x=i: y*x*x for i in list_of_nums]\n",
    "print(list(map(lambda i: list_of_defs[i](-1), range(len(list_of_nums)))))"
   ]
  },
  {
   "cell_type": "markdown",
   "metadata": {
    "collapsed": true
   },
   "source": [
    "## Tuples and Sets"
   ]
  },
  {
   "cell_type": "code",
   "execution_count": 5,
   "metadata": {},
   "outputs": [
    {
     "name": "stdout",
     "output_type": "stream",
     "text": [
      "{1, 2, 3, 5, 6}\n",
      "append instance of class\n",
      "{X with xxx=None, 2, 3, 'hello world!', 5, 6, 8} (1, 2, 3)\n",
      "mutate state of class instance\n",
      "{X with xxx=hi!, 2, 3, 'hello world!', 5, 6, 8} (1, 2, 3)\n",
      "1\n"
     ]
    }
   ],
   "source": [
    "# mutable\n",
    "s = {1,2,3}\n",
    "\n",
    "# immutable\n",
    "t = (1,2,3)\n",
    "\n",
    "s |= {5,6,7}\n",
    "s ^= {7}\n",
    "print(s)\n",
    "# TypeError: unsupported operand type(s) for |=: 'tuple' and 'tuple'\n",
    "#t |= (5,6,7)\n",
    "\n",
    "s.add(8)\n",
    "# AttributeError: 'tuple' object has no attribute 'add'\n",
    "#t.add(8)\n",
    "\n",
    "s.remove(1)\n",
    "s.add('hello world!')\n",
    "l = ['world']\n",
    "# TypeError: unhashable type: 'list'\n",
    "# s.add(l)\n",
    "l.append(777)\n",
    "\n",
    "class X: \n",
    "    xxx = None\n",
    "    def __repr__(self):\n",
    "        return 'X with xxx={}'.format(self.xxx)\n",
    "x = X()\n",
    "s.add(x)\n",
    "print('append instance of class')\n",
    "print(s, t)\n",
    "# set(map(print, s))\n",
    "# for e in s: print(e)\n",
    "x.xxx = 'hi!'\n",
    "print('mutate state of class instance')\n",
    "# set(map(print, s))\n",
    "print(s, t)\n",
    "\n",
    "print(t[0])\n",
    "# s[0]\n",
    "# 'set' object does not support indexing"
   ]
  },
  {
   "cell_type": "markdown",
   "metadata": {},
   "source": [
    "## Class attributes"
   ]
  },
  {
   "cell_type": "code",
   "execution_count": 6,
   "metadata": {},
   "outputs": [
    {
     "name": "stdout",
     "output_type": "stream",
     "text": [
      "a, b, c = A(), B(), C()\n",
      "A.x=1, B.x=1, C.x=1\n",
      "Class getattribute invoked (<__main__.A object at 0x7f4412e54f60>, 'x')\n",
      "Class getattribute invoked (<__main__.B object at 0x7f4412e54fd0>, 'x')\n",
      "Class getattribute invoked (<__main__.C object at 0x7f4413152898>, 'x')\n",
      "a.x=1, b.x=1, c.x=1\n",
      "A.x = 2\n",
      "A.x=2, B.x=2, C.x=2\n",
      "Class getattribute invoked (<__main__.A object at 0x7f4412e54f60>, 'x')\n",
      "Class getattribute invoked (<__main__.B object at 0x7f4412e54fd0>, 'x')\n",
      "Class getattribute invoked (<__main__.C object at 0x7f4413152898>, 'x')\n",
      "a.x=2, b.x=2, c.x=2\n",
      "C.x = 3\n",
      "A.x=2, B.x=2, C.x=3\n",
      "Class getattribute invoked (<__main__.A object at 0x7f4412e54f60>, 'x')\n",
      "Class getattribute invoked (<__main__.B object at 0x7f4412e54fd0>, 'x')\n",
      "Class getattribute invoked (<__main__.C object at 0x7f4413152898>, 'x')\n",
      "a.x=2, b.x=2, c.x=3\n",
      "a.x = 4\n",
      "A.x=2, B.x=2, C.x=3\n",
      "Class getattribute invoked (<__main__.A object at 0x7f4412e54f60>, 'x')\n",
      "Class getattribute invoked (<__main__.B object at 0x7f4412e54fd0>, 'x')\n",
      "Class getattribute invoked (<__main__.C object at 0x7f4413152898>, 'x')\n",
      "a.x=4, b.x=2, c.x=3\n",
      "Class getattribute invoked (<__main__.D object at 0x7f4412e54f98>, 'x')\n",
      "d.x = 2\n"
     ]
    }
   ],
   "source": [
    "class A: \n",
    "    x = 1\n",
    "    def __getattribute__(*args):\n",
    "        print(\"Class getattribute invoked {}\".format(args))\n",
    "        return object.__getattribute__(*args)\n",
    "\n",
    "class B(A): pass\n",
    "class C(A): pass\n",
    "\n",
    "a, b, c = A(), B(), C()\n",
    "print('a, b, c = A(), B(), C()')\n",
    "print('A.x={}, B.x={}, C.x={}'.format(A.x, B.x, C.x))\n",
    "print('a.x={}, b.x={}, c.x={}'.format(a.x, b.x, c.x))\n",
    "\n",
    "A.x = 2\n",
    "print('A.x = 2')\n",
    "print('A.x={}, B.x={}, C.x={}'.format(A.x, B.x, C.x))\n",
    "print('a.x={}, b.x={}, c.x={}'.format(a.x, b.x, c.x))\n",
    "\n",
    "C.x = 3\n",
    "print('C.x = 3')\n",
    "print('A.x={}, B.x={}, C.x={}'.format(A.x, B.x, C.x))\n",
    "print('a.x={}, b.x={}, c.x={}'.format(a.x, b.x, c.x))\n",
    "\n",
    "a.x = 4\n",
    "print('a.x = 4')\n",
    "print('A.x={}, B.x={}, C.x={}'.format(A.x, B.x, C.x))\n",
    "print('a.x={}, b.x={}, c.x={}'.format(a.x, b.x, c.x))\n",
    "\n",
    "class D(A): pass\n",
    "d = D()\n",
    "print('d.x = {}'.format(d.x))"
   ]
  },
  {
   "cell_type": "markdown",
   "metadata": {},
   "source": [
    "## Sort tuples in python"
   ]
  },
  {
   "cell_type": "code",
   "execution_count": 7,
   "metadata": {},
   "outputs": [
    {
     "name": "stdout",
     "output_type": "stream",
     "text": [
      "--------------------------------------------------------------------------------\n",
      "sort by few items\n",
      "[(2, 'Alyona', 27),\n",
      " (4, 'Eugene', 100),\n",
      " (1, 'Eugene', 37),\n",
      " (4, 'Eugene', 0),\n",
      " (3, 'Philip', 3)]\n",
      "--------------------------------------------------------------------------------\n",
      "sort with suggar\n",
      "[(2, 'Alyona', 27),\n",
      " (4, 'Eugene', 0),\n",
      " (1, 'Eugene', 37),\n",
      " (4, 'Eugene', 100),\n",
      " (3, 'Philip', 3)]\n",
      "--------------------------------------------------------------------------------\n",
      "reversed sort\n",
      "[(3, 'Philip', 3),\n",
      " (4, 'Eugene', 100),\n",
      " (1, 'Eugene', 37),\n",
      " (4, 'Eugene', 0),\n",
      " (2, 'Alyona', 27)]\n"
     ]
    }
   ],
   "source": [
    "from operator import itemgetter, attrgetter, methodcaller\n",
    "\n",
    "data = (\n",
    "    (1,'Eugene', 37),\n",
    "    (2,'Alyona', 27),\n",
    "    (3,'Philip', 3),\n",
    "    (4,'Eugene', 0),\n",
    "    (4,'Eugene', 100),\n",
    ")\n",
    "\n",
    "print('-'*80)\n",
    "print('sort by few items')\n",
    "pprint(sorted(data, key=lambda item: (item[1], -item[2])))\n",
    "\n",
    "print('-'*80)\n",
    "print('sort with suggar')\n",
    "pprint(sorted(data, key=itemgetter(1,2)))\n",
    "\n",
    "print('-'*80)\n",
    "print('reversed sort')\n",
    "pprint(sorted(data, key=itemgetter(1,2), reverse=True))"
   ]
  },
  {
   "cell_type": "code",
   "execution_count": null,
   "metadata": {
    "collapsed": true
   },
   "outputs": [],
   "source": []
  }
 ],
 "metadata": {
  "kernelspec": {
   "display_name": "Python 3",
   "language": "python",
   "name": "python3"
  },
  "language_info": {
   "codemirror_mode": {
    "name": "ipython",
    "version": 3
   },
   "file_extension": ".py",
   "mimetype": "text/x-python",
   "name": "python",
   "nbconvert_exporter": "python",
   "pygments_lexer": "ipython3",
   "version": "3.6.3"
  }
 },
 "nbformat": 4,
 "nbformat_minor": 2
}
