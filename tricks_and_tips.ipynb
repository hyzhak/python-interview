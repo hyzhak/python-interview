{
 "cells": [
  {
   "cell_type": "code",
   "execution_count": 1,
   "metadata": {
    "collapsed": true
   },
   "outputs": [],
   "source": [
    "import functools"
   ]
  },
  {
   "cell_type": "markdown",
   "metadata": {},
   "source": [
    "# Lazy evaluation\n",
    "## create list of lambdas"
   ]
  },
  {
   "cell_type": "code",
   "execution_count": 2,
   "metadata": {
    "collapsed": true
   },
   "outputs": [],
   "source": [
    "list_of_nums = [1,2,3,4,5]\n",
    "square = lambda x: x * x"
   ]
  },
  {
   "cell_type": "markdown",
   "metadata": {},
   "source": [
    "## it fails because..."
   ]
  },
  {
   "cell_type": "code",
   "execution_count": 9,
   "metadata": {},
   "outputs": [
    {
     "name": "stdout",
     "output_type": "stream",
     "text": [
      "wrong way to do that:\n",
      "[25, 25, 25, 25, 25]\n"
     ]
    }
   ],
   "source": [
    "# wrong way to do that:')\n",
    "list_of_lambdas = [lambda: square(i) for i in list_of_nums]\n",
    "print(list(map(lambda i: list_of_lambdas[i](), range(len(list_of_nums)))))"
   ]
  },
  {
   "cell_type": "code",
   "execution_count": 8,
   "metadata": {},
   "outputs": [
    {
     "name": "stdout",
     "output_type": "stream",
     "text": [
      "correct ways:\n",
      "[-1, -4, -9, -16, -25]\n",
      "[-1, -4, -9, -16, -25]\n"
     ]
    }
   ],
   "source": [
    "\n",
    "print('correct ways:')\n",
    "list_of_partial = [functools.partial(lambda x, y: y*x*x, i) for i in list_of_nums]\n",
    "print(list(map(lambda i: list_of_partial[i](-1), range(len(list_of_nums)))))\n",
    "\n",
    "list_of_defs = [lambda y, x=i: y*x*x for i in list_of_nums]\n",
    "print(list(map(lambda i: list_of_defs[i](-1), range(len(list_of_nums)))))"
   ]
  },
  {
   "cell_type": "code",
   "execution_count": null,
   "metadata": {
    "collapsed": true
   },
   "outputs": [],
   "source": []
  }
 ],
 "metadata": {
  "kernelspec": {
   "display_name": "Python 3",
   "language": "python",
   "name": "python3"
  },
  "language_info": {
   "codemirror_mode": {
    "name": "ipython",
    "version": 3
   },
   "file_extension": ".py",
   "mimetype": "text/x-python",
   "name": "python",
   "nbconvert_exporter": "python",
   "pygments_lexer": "ipython3",
   "version": "3.6.3"
  }
 },
 "nbformat": 4,
 "nbformat_minor": 2
}
