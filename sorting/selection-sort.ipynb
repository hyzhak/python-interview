{
 "cells": [
  {
   "cell_type": "code",
   "execution_count": 1,
   "metadata": {
    "collapsed": true
   },
   "outputs": [],
   "source": [
    "# for auto-reloading external modules\n",
    "# see http://stackoverflow.com/questions/1907993/autoreload-of-modules-in-ipython\n",
    "%load_ext autoreload\n",
    "%autoreload 2"
   ]
  },
  {
   "cell_type": "code",
   "execution_count": 2,
   "metadata": {
    "collapsed": true
   },
   "outputs": [],
   "source": [
    "import matplotlib.pyplot as plt\n",
    "import random\n",
    "\n",
    "from helpers import get_dataset, is_sorted, swap\n",
    "from middlewares import AnimationMiddleware, GroupOfMiddlewares"
   ]
  },
  {
   "cell_type": "markdown",
   "metadata": {},
   "source": [
    "# Selection Sorting\n",
    "https://en.wikipedia.org/wiki/Selection_sort\n",
    "- complexity $O(N^{2})$\n",
    "\n",
    "```\n",
    "/* a[0] to a[n-1] is the array to sort */\n",
    "int i,j;\n",
    "int n;\n",
    "\n",
    "/* advance the position through the entire array */\n",
    "/*   (could do j < n-1 because single element is also min element) */\n",
    "for (j = 0; j < n-1; j++)\n",
    "{\n",
    "    /* find the min element in the unsorted a[j .. n-1] */\n",
    "\n",
    "    /* assume the min is the first element */\n",
    "    int iMin = j;\n",
    "    /* test against elements after j to find the smallest */\n",
    "    for (i = j+1; i < n; i++)\n",
    "    {\n",
    "        /* if this element is less, then it is the new minimum */\n",
    "        if (a[i] < a[iMin])\n",
    "        {\n",
    "            /* found new minimum; remember its index */\n",
    "            iMin = i;\n",
    "        }\n",
    "    }\n",
    "\n",
    "    if (iMin != j) \n",
    "    {\n",
    "        swap(a[j], a[iMin]);\n",
    "    }\n",
    "}\n",
    "```"
   ]
  },
  {
   "cell_type": "code",
   "execution_count": null,
   "metadata": {
    "collapsed": true
   },
   "outputs": [],
   "source": [
    "def selection_sort_straightway(data, middlewares):\n",
    "    # because we mutate list we are going to clone input list\n",
    "    data = data[:]\n",
    "    n = len(data)\n",
    "    for j in range(0, n - 1):\n",
    "        i_min = j\n",
    "        for i in range(j+1, n):\n",
    "            if data[i] < data[i_min]:\n",
    "                i_min = i\n",
    "        \n",
    "        if i_min != j:\n",
    "            swap(data, j, i_min)\n",
    "            middlewares.process(data)\n",
    "    \n",
    "    return data\n",
    "\n",
    "print('passed:')\n",
    "print(data)\n",
    "\n",
    "res, animation = selection_sort_straightway(data)\n",
    "assert res is not data\n",
    "\n",
    "print()\n",
    "print('result:')\n",
    "print(res)\n",
    "assert is_sorted(res)\n",
    "\n",
    "plt.figure(figsize=(16,16))\n",
    "plt.imshow(animation, interpolation='none', aspect='auto', extent=[0,100,len(animation), 0]);"
   ]
  },
  {
   "cell_type": "code",
   "execution_count": null,
   "metadata": {
    "collapsed": true
   },
   "outputs": [],
   "source": [
    "# TODO:\n",
    "def selection_sort_pythonic(data):\n",
    "    # because we mutate list we are going to clone input list\n",
    "    data = data[:]\n",
    "    # TODO: ?\n",
    "    \n",
    "    return data\n",
    "\n",
    "print('passed:')\n",
    "print(data)\n",
    "\n",
    "res = selection_sort_straightway(data)\n",
    "assert res is not data\n",
    "\n",
    "# Is not implemented yet\n",
    "# print()\n",
    "# print('result:')\n",
    "# print(res)\n",
    "# assert is_sorted(res)"
   ]
  }
 ],
 "metadata": {
  "kernelspec": {
   "display_name": "Python 3",
   "language": "python",
   "name": "python3"
  },
  "language_info": {
   "codemirror_mode": {
    "name": "ipython",
    "version": 3
   },
   "file_extension": ".py",
   "mimetype": "text/x-python",
   "name": "python",
   "nbconvert_exporter": "python",
   "pygments_lexer": "ipython3",
   "version": "3.6.3"
  }
 },
 "nbformat": 4,
 "nbformat_minor": 2
}
