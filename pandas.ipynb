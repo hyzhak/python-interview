{
 "cells": [
  {
   "cell_type": "code",
   "execution_count": 1,
   "metadata": {
    "collapsed": true
   },
   "outputs": [],
   "source": [
    "import pandas as pd"
   ]
  },
  {
   "cell_type": "markdown",
   "metadata": {},
   "source": [
    "# Sort tuples in pandas"
   ]
  },
  {
   "cell_type": "code",
   "execution_count": 2,
   "metadata": {},
   "outputs": [
    {
     "name": "stdout",
     "output_type": "stream",
     "text": [
      "   id    name  age\n",
      "0   1  Eugene   37\n",
      "1   2  Alyona   27\n",
      "2   3  Philip    3\n",
      "3   4  Eugene    0\n",
      "4   4  Eugene  100\n",
      "      name  age\n",
      "id             \n",
      "1   Eugene   37\n",
      "2   Alyona   27\n",
      "3   Philip    3\n",
      "4   Eugene    0\n",
      "4   Eugene  100\n",
      "      name  age\n",
      "id             \n",
      "2   Alyona   27\n",
      "4   Eugene  100\n",
      "1   Eugene   37\n",
      "4   Eugene    0\n",
      "3   Philip    3\n"
     ]
    }
   ],
   "source": [
    "data = (\n",
    "    (1,'Eugene', 37),\n",
    "    (2,'Alyona', 27),\n",
    "    (3,'Philip', 3),\n",
    "    (4,'Eugene', 0),\n",
    "    (4,'Eugene', 100),\n",
    ")\n",
    "\n",
    "df = pd.DataFrame(list(data), columns=['id', 'name', 'age'])\n",
    "print(df)\n",
    "df = df.set_index('id')\n",
    "print(df)\n",
    "df = df.sort_values(['name', 'age'], ascending=[1, 0])\n",
    "print(df)"
   ]
  },
  {
   "cell_type": "code",
   "execution_count": null,
   "metadata": {
    "collapsed": true
   },
   "outputs": [],
   "source": []
  }
 ],
 "metadata": {
  "kernelspec": {
   "display_name": "Python 3",
   "language": "python",
   "name": "python3"
  },
  "language_info": {
   "codemirror_mode": {
    "name": "ipython",
    "version": 3
   },
   "file_extension": ".py",
   "mimetype": "text/x-python",
   "name": "python",
   "nbconvert_exporter": "python",
   "pygments_lexer": "ipython3",
   "version": "3.6.3"
  }
 },
 "nbformat": 4,
 "nbformat_minor": 2
}
